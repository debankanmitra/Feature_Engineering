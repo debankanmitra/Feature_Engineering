{
 "cells": [
  {
   "cell_type": "markdown",
   "id": "8ffaf611",
   "metadata": {},
   "source": [
    "We can define information gain as a measure of how much information a feature provides about a class. Information gain helps to determine the order of attributes in the nodes of a decision tree.<br>\n",
    "Give values with respect to dependent feature"
   ]
  },
  {
   "cell_type": "code",
   "execution_count": 1,
   "id": "02c0c282",
   "metadata": {},
   "outputs": [
    {
     "data": {
      "text/plain": [
       "ram              0.849862\n",
       "mobile_wt        0.030142\n",
       "px_width         0.030079\n",
       "battery_power    0.029376\n",
       "px_height        0.027804\n",
       "sc_w             0.013523\n",
       "touch_screen     0.013482\n",
       "pc               0.007706\n",
       "three_g          0.006076\n",
       "m_dep            0.004664\n",
       "n_cores          0.000721\n",
       "fc               0.000648\n",
       "sc_h             0.000613\n",
       "blue             0.000000\n",
       "int_memory       0.000000\n",
       "four_g           0.000000\n",
       "dual_sim         0.000000\n",
       "talk_time        0.000000\n",
       "clock_speed      0.000000\n",
       "wifi             0.000000\n",
       "dtype: float64"
      ]
     },
     "execution_count": 1,
     "metadata": {},
     "output_type": "execute_result"
    }
   ],
   "source": [
    "import pandas as pd\n",
    "import numpy as np\n",
    "df=pd.read_csv('https://raw.githubusercontent.com/krishnaik06/Feature-Engineering-Live-sessions/master/mobile_dataset.csv')\n",
    "X=df.iloc[:,:-1]\n",
    "y=df['price_range']\n",
    "\n",
    "from sklearn.feature_selection import mutual_info_classif\n",
    "mutual_info=mutual_info_classif(X,y)\n",
    "mutual_data=pd.Series(mutual_info,index=X.columns)\n",
    "mutual_data.sort_values(ascending=False)"
   ]
  },
  {
   "cell_type": "code",
   "execution_count": null,
   "id": "245c116e",
   "metadata": {},
   "outputs": [],
   "source": []
  }
 ],
 "metadata": {
  "kernelspec": {
   "display_name": "Python 3 (ipykernel)",
   "language": "python",
   "name": "python3"
  },
  "language_info": {
   "codemirror_mode": {
    "name": "ipython",
    "version": 3
   },
   "file_extension": ".py",
   "mimetype": "text/x-python",
   "name": "python",
   "nbconvert_exporter": "python",
   "pygments_lexer": "ipython3",
   "version": "3.10.7"
  }
 },
 "nbformat": 4,
 "nbformat_minor": 5
}
