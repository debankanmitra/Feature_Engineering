{
 "cells": [
  {
   "cell_type": "markdown",
   "id": "a5ddb2e8",
   "metadata": {},
   "source": [
    "#There is not a rule for choosing a feature selection algorithm: it depends on the dataset under study. There are filter and wrapper based approaches for performing feature selection. Given that wrapper procedures are bases in the obtained performances of the learner on each feature subspace, they gives better results than filter methods which are independent of the prediction model.\n",
    "\n",
    "#Given that your dataset is small, then you will not have much penalty in using wrapper techniques, since each run would be computationally relatively cheap. As for what kind of search algorithm you should use in the space of the feature subsets there is no clear answer. Both forward selection and backward elimination will work ok. If the number of features is quite large, then GAs might be better at finding the global optimal subset. In any case, I would base the evaluation function (scoring metric for a specific feature subset) on some form of cross validation.\n",
    "\n",
    "#You have to formulate the feature subsets using various feature selection techniques. Then, evaluate the performance of each feature subsets using classifier. The feature subset that showing higher accuracy will be selected.\n",
    "\n",
    "https://www.researchgate.net/deref/http%3A%2F%2Fen.wikipedia.org%2Fwiki%2FFeature_selection"
   ]
  },
  {
   "cell_type": "code",
   "execution_count": null,
   "id": "3317c7ad",
   "metadata": {},
   "outputs": [],
   "source": []
  }
 ],
 "metadata": {
  "kernelspec": {
   "display_name": "Python 3 (ipykernel)",
   "language": "python",
   "name": "python3"
  },
  "language_info": {
   "codemirror_mode": {
    "name": "ipython",
    "version": 3
   },
   "file_extension": ".py",
   "mimetype": "text/x-python",
   "name": "python",
   "nbconvert_exporter": "python",
   "pygments_lexer": "ipython3",
   "version": "3.10.7"
  }
 },
 "nbformat": 4,
 "nbformat_minor": 5
}
