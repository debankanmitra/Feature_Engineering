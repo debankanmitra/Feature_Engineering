{
 "cells": [
  {
   "cell_type": "markdown",
   "id": "f096674e",
   "metadata": {},
   "source": [
    "This technique gives you a score for each feature of your data,the higher the score mor relevant it is"
   ]
  },
  {
   "cell_type": "code",
   "execution_count": 1,
   "id": "16a2f35f",
   "metadata": {
    "scrolled": true
   },
   "outputs": [
    {
     "data": {
      "text/plain": [
       "<matplotlib.image.AxesImage at 0x7f39b32f99f0>"
      ]
     },
     "execution_count": 1,
     "metadata": {},
     "output_type": "execute_result"
    },
    {
     "data": {
      "image/png": "[encoded data removed]",
      "text/plain": [
       "<Figure size 345.6x345.6 with 1 Axes>"
      ]
     },
     "metadata": {
      "needs_background": "light"
     },
     "output_type": "display_data"
    }
   ],
   "source": [
    "import numpy as np\n",
    "import pandas as pd\n",
    "import seaborn as sns \n",
    "import matplotlib.pyplot as plt\n",
    "from sklearn.datasets import load_digits\n",
    "df=load_digits()\n",
    "X = df.data\n",
    "y = df.target\n",
    "plt.matshow(df.images[1])"
   ]
  },
  {
   "cell_type": "code",
   "execution_count": 2,
   "id": "ff91ce3f",
   "metadata": {},
   "outputs": [
    {
     "data": {
      "text/plain": [
       "<AxesSubplot:>"
      ]
     },
     "execution_count": 2,
     "metadata": {},
     "output_type": "execute_result"
    },
    {
     "data": {
      "image/png": "[encoded data removed]",
      "text/plain": [
       "<Figure size 432x288 with 2 Axes>"
      ]
     },
     "metadata": {
      "needs_background": "light"
     },
     "output_type": "display_data"
    }
   ],
   "source": [
    "sns.heatmap(df.images[0])"
   ]
  },
  {
   "cell_type": "code",
   "execution_count": 3,
   "id": "1ed96c5c",
   "metadata": {},
   "outputs": [
    {
     "data": {
      "text/plain": [
       "array([0.00000000e+00, 2.00277887e-03, 1.73027295e-02, 8.84813345e-03,\n",
       "       6.75636882e-03, 1.79108899e-02, 6.80457370e-03, 4.91181596e-04,\n",
       "       4.77069124e-05, 9.51951659e-03, 2.60582647e-02, 5.64758765e-03,\n",
       "       1.08163384e-02, 2.88177654e-02, 4.64740825e-03, 6.85537815e-04,\n",
       "       6.39742876e-05, 6.45555413e-03, 2.19860136e-02, 2.16691428e-02,\n",
       "       3.50463236e-02, 5.42383250e-02, 7.73664484e-03, 2.24720205e-04,\n",
       "       6.92526375e-05, 1.06914982e-02, 4.57218694e-02, 2.50694411e-02,\n",
       "       3.44587082e-02, 2.24087022e-02, 2.43299310e-02, 4.61514694e-06,\n",
       "       0.00000000e+00, 2.75142916e-02, 3.67788008e-02, 1.98417041e-02,\n",
       "       3.61195648e-02, 1.96657561e-02, 2.47701528e-02, 0.00000000e+00,\n",
       "       2.15818991e-05, 5.99178235e-03, 5.21015358e-02, 5.14250669e-02,\n",
       "       2.49021046e-02, 1.73387759e-02, 2.08680925e-02, 8.14294541e-05,\n",
       "       5.85502156e-05, 2.31941697e-03, 1.95166111e-02, 1.41724267e-02,\n",
       "       1.32869356e-02, 2.59667684e-02, 2.30198718e-02, 1.70997851e-03,\n",
       "       4.61514694e-06, 1.82567176e-03, 2.17551791e-02, 1.07601078e-02,\n",
       "       2.15491426e-02, 3.22012587e-02, 1.44830633e-02, 3.41826463e-03])"
      ]
     },
     "execution_count": 3,
     "metadata": {},
     "output_type": "execute_result"
    }
   ],
   "source": [
    "from sklearn.ensemble import ExtraTreesClassifier\n",
    "et=ExtraTreesClassifier(criterion='entropy')\n",
    "et.fit(X,y)\n",
    "et.feature_importances_"
   ]
  },
  {
   "cell_type": "code",
   "execution_count": 4,
   "id": "e5639484",
   "metadata": {},
   "outputs": [
    {
     "data": {
      "text/plain": [
       "(64,)"
      ]
     },
     "execution_count": 4,
     "metadata": {},
     "output_type": "execute_result"
    }
   ],
   "source": [
    "et.feature_importances_.shape"
   ]
  },
  {
   "cell_type": "code",
   "execution_count": 5,
   "id": "9a433685",
   "metadata": {},
   "outputs": [
    {
     "data": {
      "text/plain": [
       "<AxesSubplot:>"
      ]
     },
     "execution_count": 5,
     "metadata": {},
     "output_type": "execute_result"
    },
    {
     "data": {
      "image/png": "[encoded data removed]",
      "text/plain": [
       "<Figure size 432x288 with 2 Axes>"
      ]
     },
     "metadata": {
      "needs_background": "light"
     },
     "output_type": "display_data"
    }
   ],
   "source": [
    "sns.heatmap(et.feature_importances_.reshape(8,8)) # all pixeles in the whole dataset are covering this area "
   ]
  },
  {
   "cell_type": "markdown",
   "id": "feaf3728",
   "metadata": {},
   "source": [
    "### Titanic dataset"
   ]
  },
  {
   "cell_type": "code",
   "execution_count": 6,
   "id": "f744b533",
   "metadata": {},
   "outputs": [
    {
     "data": {
      "text/plain": [
       "array([0.03573978, 0.2535063 , 0.32173945, 0.04793062, 0.05603002,\n",
       "       0.28505383])"
      ]
     },
     "execution_count": 6,
     "metadata": {},
     "output_type": "execute_result"
    }
   ],
   "source": [
    "df2=sns.load_dataset('titanic')\n",
    "df2['sex']=np.where(df2['sex']=='male',1,0)\n",
    "df2.dropna(inplace=True)\n",
    "X1=df2[['pclass','sex','age','sibsp','parch','fare']]\n",
    "y1=df2.survived\n",
    "et2=ExtraTreesClassifier(criterion='entropy')\n",
    "et2.fit(X1,y1)\n",
    "et2.feature_importances_"
   ]
  },
  {
   "cell_type": "code",
   "execution_count": 7,
   "id": "450c8723",
   "metadata": {},
   "outputs": [
    {
     "data": {
      "text/html": [
       "<div>\n",
       "<style scoped>\n",
       "    .dataframe tbody tr th:only-of-type {\n",
       "        vertical-align: middle;\n",
       "    }\n",
       "\n",
       "    .dataframe tbody tr th {\n",
       "        vertical-align: top;\n",
       "    }\n",
       "\n",
       "    .dataframe thead th {\n",
       "        text-align: right;\n",
       "    }\n",
       "</style>\n",
       "<table border=\"1\" class=\"dataframe\">\n",
       "  <thead>\n",
       "    <tr style=\"text-align: right;\">\n",
       "      <th></th>\n",
       "      <th>feature</th>\n",
       "      <th>Importances</th>\n",
       "    </tr>\n",
       "  </thead>\n",
       "  <tbody>\n",
       "    <tr>\n",
       "      <th>2</th>\n",
       "      <td>age</td>\n",
       "      <td>0.321739</td>\n",
       "    </tr>\n",
       "    <tr>\n",
       "      <th>5</th>\n",
       "      <td>fare</td>\n",
       "      <td>0.285054</td>\n",
       "    </tr>\n",
       "    <tr>\n",
       "      <th>1</th>\n",
       "      <td>sex</td>\n",
       "      <td>0.253506</td>\n",
       "    </tr>\n",
       "    <tr>\n",
       "      <th>4</th>\n",
       "      <td>parch</td>\n",
       "      <td>0.056030</td>\n",
       "    </tr>\n",
       "    <tr>\n",
       "      <th>3</th>\n",
       "      <td>sibsp</td>\n",
       "      <td>0.047931</td>\n",
       "    </tr>\n",
       "    <tr>\n",
       "      <th>0</th>\n",
       "      <td>pclass</td>\n",
       "      <td>0.035740</td>\n",
       "    </tr>\n",
       "  </tbody>\n",
       "</table>\n",
       "</div>"
      ],
      "text/plain": [
       "  feature  Importances\n",
       "2     age     0.321739\n",
       "5    fare     0.285054\n",
       "1     sex     0.253506\n",
       "4   parch     0.056030\n",
       "3   sibsp     0.047931\n",
       "0  pclass     0.035740"
      ]
     },
     "execution_count": 7,
     "metadata": {},
     "output_type": "execute_result"
    }
   ],
   "source": [
    "df3=pd.DataFrame({'feature':X1.columns , 'Importances':et2.feature_importances_})\n",
    "df3.sort_values(['Importances'],ascending=False)"
   ]
  },
  {
   "cell_type": "code",
   "execution_count": 9,
   "id": "945055eb",
   "metadata": {},
   "outputs": [
    {
     "data": {
      "image/png": "[encoded data removed]",
      "text/plain": [
       "<Figure size 432x288 with 1 Axes>"
      ]
     },
     "metadata": {
      "needs_background": "light"
     },
     "output_type": "display_data"
    }
   ],
   "source": [
    "ranked_features=pd.Series(et2.feature_importances_,index=X1.columns)\n",
    "ranked_features.nlargest(10).plot(kind='barh')\n",
    "plt.show()\n"
   ]
  },
  {
   "cell_type": "code",
   "execution_count": null,
   "id": "f6af5cc9",
   "metadata": {},
   "outputs": [],
   "source": []
  }
 ],
 "metadata": {
  "kernelspec": {
   "display_name": "Python 3 (ipykernel)",
   "language": "python",
   "name": "python3"
  },
  "language_info": {
   "codemirror_mode": {
    "name": "ipython",
    "version": 3
   },
   "file_extension": ".py",
   "mimetype": "text/x-python",
   "name": "python",
   "nbconvert_exporter": "python",
   "pygments_lexer": "ipython3",
   "version": "3.10.7"
  }
 },
 "nbformat": 4,
 "nbformat_minor": 5
}
